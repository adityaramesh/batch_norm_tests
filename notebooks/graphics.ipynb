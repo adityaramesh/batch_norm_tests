{
 "cells": [
  {
   "cell_type": "code",
   "execution_count": 8,
   "metadata": {
    "collapsed": false
   },
   "outputs": [],
   "source": [
    "require \"hdf5\"\n",
    "\n",
    "f = hdf5.open(\"/home/aditya/scratch/poop.hdf5\")\n",
    "mean_1 = f:read(\"/mean_1\"):all()\n",
    "mean_2 = f:read(\"/mean_2\"):all()\n",
    "mean_3 = f:read(\"/mean_3\"):all()\n",
    "        \n",
    "std_1 = f:read(\"/std_1\"):all()\n",
    "std_2 = f:read(\"/std_2\"):all()\n",
    "std_3 = f:read(\"/std_3\"):all()\n",
    "        \n",
    "mean = torch.DoubleTensor(3, 32, 32)\n",
    "mean[1]:copy(mean_1)\n",
    "mean[2]:copy(mean_2)\n",
    "mean[3]:copy(mean_3)\n",
    "    \n",
    "std = torch.DoubleTensor(3, 32, 32)\n",
    "std[1]:copy(std_1)\n",
    "std[2]:copy(std_2)\n",
    "std[3]:copy(std_3)"
   ]
  },
  {
   "cell_type": "code",
   "execution_count": 10,
   "metadata": {
    "collapsed": false
   },
   "outputs": [
    {
     "data": {
      "image/png": "[encoded data removed]",
      "text/plain": [
       "Console does not support images"
      ]
     },
     "metadata": {
      "image/png": {
       "height": 32,
       "width": 32
      }
     },
     "output_type": "display_data"
    },
    {
     "data": {
      "image/png": "[encoded data removed]",
      "text/plain": [
       "Console does not support images"
      ]
     },
     "metadata": {
      "image/png": {
       "height": 32,
       "width": 32
      }
     },
     "output_type": "display_data"
    }
   ],
   "source": [
    "itorch.image(mean)\n",
    "itorch.image(std)"
   ]
  },
  {
   "cell_type": "code",
   "execution_count": 16,
   "metadata": {
    "collapsed": false
   },
   "outputs": [
    {
     "data": {
      "image/png": "[encoded data removed]",
      "text/plain": [
       "Console does not support images"
      ]
     },
     "metadata": {
      "image/png": {
       "height": 32,
       "width": 32
      }
     },
     "output_type": "display_data"
    },
    {
     "data": {
      "image/png": "[encoded data removed]",
      "text/plain": [
       "Console does not support images"
      ]
     },
     "metadata": {
      "image/png": {
       "height": 32,
       "width": 32
      }
     },
     "output_type": "display_data"
    }
   ],
   "source": [
    "old_data = torch.load(\"../data/svhn/raw/original/train_small.t7\")\n",
    "new_data = torch.load(\"../data/svhn/image_normalized/train_small_nrgb.t7\")\n",
    "itorch.image(old_data.inputs[151])\n",
    "itorch.image(new_data.inputs[151])"
   ]
  },
  {
   "cell_type": "code",
   "execution_count": null,
   "metadata": {
    "collapsed": true
   },
   "outputs": [],
   "source": []
  }
 ],
 "metadata": {
  "kernelspec": {
   "display_name": "iTorch",
   "language": "lua",
   "name": "itorch"
  },
  "language_info": {
   "name": "lua",
   "version": "20003"
  }
 },
 "nbformat": 4,
 "nbformat_minor": 0
}
